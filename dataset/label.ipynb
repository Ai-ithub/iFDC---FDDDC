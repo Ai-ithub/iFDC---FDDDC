{
  "nbformat": 4,
  "nbformat_minor": 0,
  "metadata": {
    "colab": {
      "provenance": []
    },
    "kernelspec": {
      "name": "python3",
      "display_name": "Python 3"
    },
    "language_info": {
      "name": "python"
    }
  },
  "cells": [
    {
      "cell_type": "code",
      "execution_count": null,
      "metadata": {
        "colab": {
          "base_uri": "https://localhost:8080/"
        },
        "id": "ZmvATR_ZS7-r",
        "outputId": "e9b8b6b2-b0d8-4106-d739-ab274df54e31"
      },
      "outputs": [
        {
          "output_type": "stream",
          "name": "stdout",
          "text": [
            "Drive already mounted at /content/drive; to attempt to forcibly remount, call drive.mount(\"/content/drive\", force_remount=True).\n"
          ]
        }
      ],
      "source": [
        "from google.colab import drive\n",
        "drive.mount('/content/drive')"
      ]
    },
    {
      "cell_type": "code",
      "source": [],
      "metadata": {
        "id": "ms_J-wVJS---"
      },
      "execution_count": null,
      "outputs": []
    },
    {
      "cell_type": "code",
      "source": [
        "# بستن خوشه‌های Dask قبلی\n",
        "from dask.distributed import Client\n",
        "try:\n",
        "    client = Client()\n",
        "    client.close()\n",
        "except:\n",
        "    pass\n",
        "\n",
        "# آزاد کردن حافظه RAM\n",
        "import gc\n",
        "gc.collect()\n",
        "\n",
        "# بررسی حافظه آزاد\n",
        "!free -m"
      ],
      "metadata": {
        "colab": {
          "base_uri": "https://localhost:8080/"
        },
        "id": "nuxNskZPCB8k",
        "outputId": "7a3b1e4e-1da5-45b6-f93b-49066c397667"
      },
      "execution_count": null,
      "outputs": [
        {
          "output_type": "stream",
          "name": "stderr",
          "text": [
            "INFO:distributed.http.proxy:To route to workers diagnostics web server please install jupyter-server-proxy: python -m pip install jupyter-server-proxy\n",
            "INFO:distributed.scheduler:State start\n",
            "INFO:distributed.scheduler:  Scheduler at:     tcp://127.0.0.1:40863\n",
            "INFO:distributed.scheduler:  dashboard at:  http://127.0.0.1:8787/status\n",
            "INFO:distributed.scheduler:Registering Worker plugin shuffle\n",
            "INFO:distributed.nanny:        Start Nanny at: 'tcp://127.0.0.1:40309'\n",
            "INFO:distributed.nanny:        Start Nanny at: 'tcp://127.0.0.1:43269'\n",
            "INFO:distributed.scheduler:Register worker addr: tcp://127.0.0.1:46293 name: 0\n",
            "INFO:distributed.scheduler:Starting worker compute stream, tcp://127.0.0.1:46293\n",
            "INFO:distributed.core:Starting established connection to tcp://127.0.0.1:50192\n",
            "INFO:distributed.scheduler:Register worker addr: tcp://127.0.0.1:43237 name: 1\n",
            "INFO:distributed.scheduler:Starting worker compute stream, tcp://127.0.0.1:43237\n",
            "INFO:distributed.core:Starting established connection to tcp://127.0.0.1:50206\n",
            "INFO:distributed.scheduler:Receive client connection: Client-02e79d19-64b4-11f0-821e-0242ac1c000c\n",
            "INFO:distributed.core:Starting established connection to tcp://127.0.0.1:50212\n",
            "INFO:distributed.scheduler:Remove client Client-02e79d19-64b4-11f0-821e-0242ac1c000c\n",
            "INFO:distributed.core:Received 'close-stream' from tcp://127.0.0.1:50212; closing.\n",
            "INFO:distributed.scheduler:Remove client Client-02e79d19-64b4-11f0-821e-0242ac1c000c\n",
            "INFO:distributed.scheduler:Close client connection: Client-02e79d19-64b4-11f0-821e-0242ac1c000c\n",
            "INFO:distributed.scheduler:Retire worker addresses (stimulus_id='retire-workers-1752938477.4830272') (0, 1)\n",
            "INFO:distributed.nanny:Closing Nanny at 'tcp://127.0.0.1:40309'. Reason: nanny-close\n",
            "INFO:distributed.nanny:Nanny asking worker to close. Reason: nanny-close\n",
            "INFO:distributed.nanny:Closing Nanny at 'tcp://127.0.0.1:43269'. Reason: nanny-close\n",
            "INFO:distributed.nanny:Nanny asking worker to close. Reason: nanny-close\n",
            "INFO:distributed.core:Received 'close-stream' from tcp://127.0.0.1:50192; closing.\n",
            "INFO:distributed.scheduler:Remove worker addr: tcp://127.0.0.1:46293 name: 0 (stimulus_id='handle-worker-cleanup-1752938477.497568')\n",
            "INFO:distributed.core:Received 'close-stream' from tcp://127.0.0.1:50206; closing.\n",
            "INFO:distributed.scheduler:Remove worker addr: tcp://127.0.0.1:43237 name: 1 (stimulus_id='handle-worker-cleanup-1752938477.501154')\n",
            "INFO:distributed.scheduler:Lost all workers\n",
            "INFO:distributed.nanny:Nanny at 'tcp://127.0.0.1:43269' closed.\n",
            "INFO:distributed.nanny:Nanny at 'tcp://127.0.0.1:40309' closed.\n",
            "INFO:distributed.scheduler:Closing scheduler. Reason: unknown\n",
            "INFO:distributed.scheduler:Scheduler closing all comms\n"
          ]
        },
        {
          "output_type": "stream",
          "name": "stdout",
          "text": [
            "               total        used        free      shared  buff/cache   available\n",
            "Mem:           12977        1027        8951           1        2998       11668\n",
            "Swap:              0           0           0\n"
          ]
        }
      ]
    },
    {
      "cell_type": "code",
      "source": [
        "# parallel_pipeline_dask_google_drive_updated.py\n",
        "# -------------------------------------\n",
        "# نسخه‌ی موازی با Dask برای پیش‌پردازش و ذخیره در Google Drive\n",
        "# مناسب اجرا در Google Colab، و آماده برای time-series forecasting با نگاه ۶۰ گام\n",
        "\n",
        "# 1) نصب و وارد کردن کتابخانه‌ها\n",
        "!pip install --quiet dask[complete] pyarrow fsspec h5py\n",
        "from google.colab import drive\n",
        "from dask.distributed import Client\n",
        "import dask.dataframe as dd\n",
        "import numpy as np\n",
        "import os\n",
        "import dask\n",
        "import gc\n",
        "\n",
        "# 2) اتصال Google Drive\n",
        "# drive.mount('/content/drive')  # هنگام اجرا در Colab فعال شود\n"
      ],
      "metadata": {
        "id": "E3F89lLKwHv8",
        "colab": {
          "base_uri": "https://localhost:8080/"
        },
        "outputId": "41193316-1bba-443c-ec14-409fdac3fb8a"
      },
      "execution_count": null,
      "outputs": [
        {
          "output_type": "stream",
          "name": "stdout",
          "text": [
            "\u001b[?25l   \u001b[90m━━━━━━━━━━━━━━━━━━━━━━━━━━━━━━━━━━━━━━━━\u001b[0m \u001b[32m0.0/1.3 MB\u001b[0m \u001b[31m?\u001b[0m eta \u001b[36m-:--:--\u001b[0m\r\u001b[2K   \u001b[91m━━━━━━━━━━━━━━━━━━━━\u001b[0m\u001b[90m╺\u001b[0m\u001b[90m━━━━━━━━━━━━━━━━━━━\u001b[0m \u001b[32m0.6/1.3 MB\u001b[0m \u001b[31m19.1 MB/s\u001b[0m eta \u001b[36m0:00:01\u001b[0m\r\u001b[2K   \u001b[90m━━━━━━━━━━━━━━━━━━━━━━━━━━━━━━━━━━━━━━━━\u001b[0m \u001b[32m1.3/1.3 MB\u001b[0m \u001b[31m21.3 MB/s\u001b[0m eta \u001b[36m0:00:00\u001b[0m\n",
            "\u001b[?25h"
          ]
        }
      ]
    },
    {
      "cell_type": "code",
      "source": [
        "\n",
        "# 3) تنظیمات اولیه\n",
        "DATA_DIR = '/content/drive/MyDrive/synthetic_fdms_reduced_F'\n",
        "LOOKBACK_STEPS = 60\n",
        "FEATURE_COLUMNS = [\n",
        "    'Viscosity_cP', 'Temperature_C', 'Shear_Rate', 'Salinity_ppm', 'pH_Level'\n",
        "]\n",
        "LABEL_COLUMN = 'emulsion_risk'\n",
        "CLEAN_PARQUET = '/content/drive/MyDrive/cleaned_scaled.parquet'\n",
        "\n"
      ],
      "metadata": {
        "id": "7ZdyRlH8wPr3"
      },
      "execution_count": null,
      "outputs": []
    },
    {
      "cell_type": "code",
      "source": [
        "# 4) آزادسازی حافظه و بستن کلاینت‌های قبلی\n",
        "try:\n",
        "    client = Client()\n",
        "    client.close()\n",
        "except:\n",
        "    pass\n",
        "gc.collect()\n",
        "\n",
        "\n"
      ],
      "metadata": {
        "colab": {
          "base_uri": "https://localhost:8080/"
        },
        "id": "Iq2cD-q_wVLm",
        "outputId": "391a8ea4-7bec-4d13-da89-f347e1934a2e"
      },
      "execution_count": null,
      "outputs": [
        {
          "output_type": "stream",
          "name": "stderr",
          "text": [
            "INFO:distributed.scheduler:State start\n",
            "INFO:distributed.scheduler:  Scheduler at:     tcp://127.0.0.1:39681\n",
            "INFO:distributed.scheduler:  dashboard at:  http://127.0.0.1:8787/status\n",
            "INFO:distributed.scheduler:Registering Worker plugin shuffle\n",
            "INFO:distributed.nanny:        Start Nanny at: 'tcp://127.0.0.1:35205'\n",
            "INFO:distributed.nanny:        Start Nanny at: 'tcp://127.0.0.1:45973'\n",
            "INFO:distributed.scheduler:Register worker addr: tcp://127.0.0.1:34555 name: 1\n",
            "INFO:distributed.scheduler:Starting worker compute stream, tcp://127.0.0.1:34555\n",
            "INFO:distributed.core:Starting established connection to tcp://127.0.0.1:41632\n",
            "INFO:distributed.scheduler:Register worker addr: tcp://127.0.0.1:39069 name: 0\n",
            "INFO:distributed.scheduler:Starting worker compute stream, tcp://127.0.0.1:39069\n",
            "INFO:distributed.core:Starting established connection to tcp://127.0.0.1:41646\n",
            "INFO:distributed.scheduler:Receive client connection: Client-15848cbf-64b4-11f0-821e-0242ac1c000c\n",
            "INFO:distributed.core:Starting established connection to tcp://127.0.0.1:41654\n",
            "/usr/local/lib/python3.11/dist-packages/distributed/client.py:1582: VersionMismatchWarning: Mismatched versions found\n",
            "\n",
            "+---------+--------+-----------+---------+\n",
            "| Package | Client | Scheduler | Workers |\n",
            "+---------+--------+-----------+---------+\n",
            "| lz4     | None   | None      | 4.4.4   |\n",
            "+---------+--------+-----------+---------+\n",
            "  warnings.warn(version_module.VersionMismatchWarning(msg[0][\"warning\"]))\n",
            "INFO:distributed.scheduler:Remove client Client-15848cbf-64b4-11f0-821e-0242ac1c000c\n",
            "INFO:distributed.core:Received 'close-stream' from tcp://127.0.0.1:41654; closing.\n",
            "INFO:distributed.scheduler:Remove client Client-15848cbf-64b4-11f0-821e-0242ac1c000c\n",
            "INFO:distributed.scheduler:Close client connection: Client-15848cbf-64b4-11f0-821e-0242ac1c000c\n",
            "INFO:distributed.scheduler:Retire worker addresses (stimulus_id='retire-workers-1752938508.936963') (0, 1)\n",
            "INFO:distributed.nanny:Closing Nanny at 'tcp://127.0.0.1:35205'. Reason: nanny-close\n",
            "INFO:distributed.nanny:Nanny asking worker to close. Reason: nanny-close\n",
            "INFO:distributed.nanny:Closing Nanny at 'tcp://127.0.0.1:45973'. Reason: nanny-close\n",
            "INFO:distributed.nanny:Nanny asking worker to close. Reason: nanny-close\n",
            "INFO:distributed.core:Received 'close-stream' from tcp://127.0.0.1:41646; closing.\n",
            "INFO:distributed.core:Received 'close-stream' from tcp://127.0.0.1:41632; closing.\n",
            "INFO:distributed.scheduler:Remove worker addr: tcp://127.0.0.1:39069 name: 0 (stimulus_id='handle-worker-cleanup-1752938508.975764')\n",
            "INFO:distributed.scheduler:Remove worker addr: tcp://127.0.0.1:34555 name: 1 (stimulus_id='handle-worker-cleanup-1752938508.977132')\n",
            "INFO:distributed.scheduler:Lost all workers\n",
            "INFO:distributed.nanny:Nanny at 'tcp://127.0.0.1:35205' closed.\n",
            "INFO:distributed.nanny:Nanny at 'tcp://127.0.0.1:45973' closed.\n",
            "INFO:distributed.scheduler:Closing scheduler. Reason: unknown\n",
            "INFO:distributed.scheduler:Scheduler closing all comms\n"
          ]
        },
        {
          "output_type": "execute_result",
          "data": {
            "text/plain": [
              "448"
            ]
          },
          "metadata": {},
          "execution_count": 5
        }
      ]
    },
    {
      "cell_type": "code",
      "source": [
        "# 5) راه‌اندازی Dask با تنظیمات بهینه\n",
        "client = Client(n_workers=1, threads_per_worker=4, memory_limit='6GB')\n",
        "print(client)\n",
        "\n",
        "dask.config.set({\n",
        "    'distributed.scheduler.work-stealing': False,\n",
        "    'distributed.worker.memory.spill': 0.6\n",
        "})\n",
        "\n"
      ],
      "metadata": {
        "colab": {
          "base_uri": "https://localhost:8080/"
        },
        "id": "YPLzQn9gwXID",
        "outputId": "c354f21a-15b7-4133-ae3e-66de0d0a07b5"
      },
      "execution_count": null,
      "outputs": [
        {
          "output_type": "stream",
          "name": "stderr",
          "text": [
            "/usr/local/lib/python3.11/dist-packages/distributed/node.py:187: UserWarning: Port 8787 is already in use.\n",
            "Perhaps you already have a cluster running?\n",
            "Hosting the HTTP server on port 46241 instead\n",
            "  warnings.warn(\n",
            "INFO:distributed.scheduler:State start\n",
            "INFO:distributed.scheduler:  Scheduler at:     tcp://127.0.0.1:33701\n",
            "INFO:distributed.scheduler:  dashboard at:  http://127.0.0.1:46241/status\n",
            "INFO:distributed.scheduler:Registering Worker plugin shuffle\n",
            "INFO:distributed.nanny:        Start Nanny at: 'tcp://127.0.0.1:44817'\n",
            "INFO:distributed.scheduler:Register worker addr: tcp://127.0.0.1:40415 name: 0\n",
            "INFO:distributed.scheduler:Starting worker compute stream, tcp://127.0.0.1:40415\n",
            "INFO:distributed.core:Starting established connection to tcp://127.0.0.1:39550\n",
            "INFO:distributed.scheduler:Receive client connection: Client-34dc4678-64b4-11f0-821e-0242ac1c000c\n",
            "INFO:distributed.core:Starting established connection to tcp://127.0.0.1:39564\n"
          ]
        },
        {
          "output_type": "stream",
          "name": "stdout",
          "text": [
            "<Client: 'tcp://127.0.0.1:33701' processes=1 threads=4, memory=5.59 GiB>\n"
          ]
        },
        {
          "output_type": "stream",
          "name": "stderr",
          "text": [
            "/usr/local/lib/python3.11/dist-packages/distributed/client.py:1582: VersionMismatchWarning: Mismatched versions found\n",
            "\n",
            "+---------+--------+-----------+---------+\n",
            "| Package | Client | Scheduler | Workers |\n",
            "+---------+--------+-----------+---------+\n",
            "| lz4     | None   | None      | 4.4.4   |\n",
            "+---------+--------+-----------+---------+\n",
            "  warnings.warn(version_module.VersionMismatchWarning(msg[0][\"warning\"]))\n"
          ]
        },
        {
          "output_type": "execute_result",
          "data": {
            "text/plain": [
              "<dask.config.set at 0x7ea2527d7990>"
            ]
          },
          "metadata": {},
          "execution_count": 10
        }
      ]
    },
    {
      "cell_type": "code",
      "source": [
        "# 6) خواندن فایل‌های Parquet و پارتیشن‌بندی\n",
        "# فقط ستون‌های مورد نیاز به علاوه timestamp را بارگذاری می‌کنیم\n",
        "columns_to_load = FEATURE_COLUMNS + ['timestamp']\n",
        "ddf = dd.read_parquet(f\"{DATA_DIR}/*.parquet\", engine='pyarrow', columns=columns_to_load)\n",
        "ddf = ddf.repartition(npartitions=150).persist()\n",
        "gc.collect()\n",
        "\n"
      ],
      "metadata": {
        "colab": {
          "base_uri": "https://localhost:8080/"
        },
        "id": "irpehJ-8wbI2",
        "outputId": "6332dc6e-a0b5-4034-ae3a-f1e54c084605"
      },
      "execution_count": null,
      "outputs": [
        {
          "output_type": "execute_result",
          "data": {
            "text/plain": [
              "41"
            ]
          },
          "metadata": {},
          "execution_count": 11
        }
      ]
    },
    {
      "cell_type": "code",
      "source": [
        "# 7) تبدیل timestamp و مرتب‌سازی کلی درون پارتیشن\n",
        "from dask.dataframe import to_datetime\n",
        "\n",
        "ddf['timestamp'] = to_datetime(ddf['timestamp'])\n",
        "ddf = ddf.map_partitions(lambda df: df.sort_values('timestamp')).persist()\n",
        "gc.collect()\n",
        "\n",
        "\n"
      ],
      "metadata": {
        "colab": {
          "base_uri": "https://localhost:8080/"
        },
        "id": "10RjMGm3wdzP",
        "outputId": "5f4ba114-f398-4467-a7b7-661bc167d033"
      },
      "execution_count": null,
      "outputs": [
        {
          "output_type": "execute_result",
          "data": {
            "text/plain": [
              "521"
            ]
          },
          "metadata": {},
          "execution_count": 12
        }
      ]
    },
    {
      "cell_type": "code",
      "source": [
        "# 8) پر کردن مقادیر گمشده\n",
        "\n",
        "def fill_missing(df):\n",
        "    return df.interpolate().fillna(method='bfill').fillna(method='ffill')\n",
        "\n",
        "# فقط روی FEATURE_COLUMNS اعمال می‌شود\n",
        "ddf[FEATURE_COLUMNS] = ddf[FEATURE_COLUMNS].map_partitions(\n",
        "    lambda df: fill_missing(df),\n",
        "    meta={col: 'float64' for col in FEATURE_COLUMNS}\n",
        ").persist()\n",
        "gc.collect()\n",
        "\n"
      ],
      "metadata": {
        "colab": {
          "base_uri": "https://localhost:8080/"
        },
        "id": "NodVJMkIwgRI",
        "outputId": "ad84d5cb-7fa4-48df-8d09-e892a29e0b6a"
      },
      "execution_count": null,
      "outputs": [
        {
          "output_type": "execute_result",
          "data": {
            "text/plain": [
              "1105"
            ]
          },
          "metadata": {},
          "execution_count": 13
        }
      ]
    },
    {
      "cell_type": "code",
      "source": [
        "# 9) برچسب‌گذاری emulsion_risk\n",
        "def compute_label(df):\n",
        "    crit = (\n",
        "        (df['Viscosity_cP'] > 80).astype(int) +\n",
        "        (df['Salinity_ppm'] > 100000).astype(int) +\n",
        "        ((df['pH_Level'] < 5) | (df['pH_Level'] > 9)).astype(int) +\n",
        "        ((df['Shear_Rate'] < 50) | (df['Shear_Rate'] > 1000)).astype(int) +\n",
        "        (df['Temperature_C'] > 90).astype(int)\n",
        "    )\n",
        "    dv = df['Viscosity_cP'].diff().abs().fillna(0)\n",
        "    dt = df['Temperature_C'].diff().abs().fillna(0)\n",
        "    delta = ((dv > 15).astype(int) + (dt > 10).astype(int))\n",
        "    df[LABEL_COLUMN] = ((crit + delta) >= 3).astype(int)\n",
        "    return df\n",
        "\n",
        "# اعمال برچسب\n",
        "ddf = ddf.map_partitions(\n",
        "    compute_label,\n",
        "    meta={**{col: 'float64' for col in FEATURE_COLUMNS}, 'timestamp': 'datetime64[ns]', LABEL_COLUMN: 'int64'}\n",
        ").persist()\n",
        "gc.collect()\n",
        "\n"
      ],
      "metadata": {
        "colab": {
          "base_uri": "https://localhost:8080/"
        },
        "id": "THkEkb1zwitG",
        "outputId": "0ec94d52-b333-4e9a-fc90-4701f0e05fed"
      },
      "execution_count": null,
      "outputs": [
        {
          "output_type": "execute_result",
          "data": {
            "text/plain": [
              "41"
            ]
          },
          "metadata": {},
          "execution_count": 14
        }
      ]
    },
    {
      "cell_type": "code",
      "source": [
        "# 10) نرمال‌سازی: محاسبه mins و maxs با دقیق گرفتن فقط FEATURE_COLUMNS\n",
        "ddf_features = ddf[FEATURE_COLUMNS]\n",
        "mins = ddf_features.min().compute()\n",
        "maxs = ddf_features.max().compute()\n",
        "\n",
        "for col in FEATURE_COLUMNS:\n",
        "    ddf[f'scaled_{col}'] = (ddf[col] - mins[col]) / (maxs[col] - mins[col])\n",
        "\n"
      ],
      "metadata": {
        "colab": {
          "base_uri": "https://localhost:8080/"
        },
        "id": "bsm4qymmwkg6",
        "outputId": "e9529640-bb62-4b64-d6c6-49d02a584bcc"
      },
      "execution_count": null,
      "outputs": [
        {
          "output_type": "stream",
          "name": "stderr",
          "text": [
            "WARNING:distributed.shuffle._scheduler_plugin:Shuffle 925f07ea8d92a53d818c8bf3abc5118f initialized by task ('shuffle-transfer-925f07ea8d92a53d818c8bf3abc5118f', 99) executed on worker tcp://127.0.0.1:40415\n",
            "WARNING:distributed.shuffle._scheduler_plugin:Shuffle 91aa1cd8d03c37eafa9c5e34fbbbbbf1 initialized by task ('shuffle-transfer-91aa1cd8d03c37eafa9c5e34fbbbbbf1', 99) executed on worker tcp://127.0.0.1:40415\n",
            "WARNING:distributed.shuffle._scheduler_plugin:Shuffle 0b62f4920cb335b649ab90a676f8e238 initialized by task ('shuffle-transfer-0b62f4920cb335b649ab90a676f8e238', 99) executed on worker tcp://127.0.0.1:40415\n",
            "WARNING:distributed.shuffle._scheduler_plugin:Shuffle 295ab18881b8afa62523896269d26dd6 initialized by task ('shuffle-transfer-295ab18881b8afa62523896269d26dd6', 99) executed on worker tcp://127.0.0.1:40415\n",
            "WARNING:distributed.shuffle._scheduler_plugin:Shuffle 97b9440cf476641a389120a0558f08e6 initialized by task ('shuffle-transfer-97b9440cf476641a389120a0558f08e6', 99) executed on worker tcp://127.0.0.1:40415\n",
            "WARNING:distributed.shuffle._scheduler_plugin:Shuffle c87f5805d6b8b4c7200aeac06d30c1b4 initialized by task ('shuffle-transfer-c87f5805d6b8b4c7200aeac06d30c1b4', 99) executed on worker tcp://127.0.0.1:40415\n",
            "WARNING:distributed.shuffle._scheduler_plugin:Shuffle b84ffcc03c2e5fa25d4f3fcc6fcb86e2 initialized by task ('shuffle-transfer-b84ffcc03c2e5fa25d4f3fcc6fcb86e2', 99) executed on worker tcp://127.0.0.1:40415\n",
            "WARNING:distributed.shuffle._scheduler_plugin:Shuffle 925f07ea8d92a53d818c8bf3abc5118f deactivated due to stimulus 'task-finished-1752940851.9798956'\n",
            "WARNING:distributed.shuffle._scheduler_plugin:Shuffle 91aa1cd8d03c37eafa9c5e34fbbbbbf1 deactivated due to stimulus 'task-finished-1752940853.4622886'\n",
            "WARNING:distributed.shuffle._scheduler_plugin:Shuffle d7322f62b04e74da02276b9eb87b4529 initialized by task ('shuffle-transfer-d7322f62b04e74da02276b9eb87b4529', 99) executed on worker tcp://127.0.0.1:40415\n",
            "WARNING:distributed.shuffle._scheduler_plugin:Shuffle b84ffcc03c2e5fa25d4f3fcc6fcb86e2 deactivated due to stimulus 'task-finished-1752941172.3078105'\n",
            "WARNING:distributed.shuffle._scheduler_plugin:Shuffle 0b62f4920cb335b649ab90a676f8e238 deactivated due to stimulus 'task-finished-1752941172.307891'\n",
            "WARNING:distributed.shuffle._scheduler_plugin:Shuffle ebc3dd2cee20c6721dd8da146cfb78c8 initialized by task ('shuffle-transfer-ebc3dd2cee20c6721dd8da146cfb78c8', 99) executed on worker tcp://127.0.0.1:40415\n",
            "WARNING:distributed.shuffle._scheduler_plugin:Shuffle d7322f62b04e74da02276b9eb87b4529 deactivated due to stimulus 'task-finished-1752941436.4211605'\n",
            "WARNING:distributed.shuffle._scheduler_plugin:Shuffle 295ab18881b8afa62523896269d26dd6 deactivated due to stimulus 'task-finished-1752941437.3702178'\n",
            "WARNING:distributed.shuffle._scheduler_plugin:Shuffle ac1202b9b5a0328db2373108543f47bf initialized by task ('shuffle-transfer-ac1202b9b5a0328db2373108543f47bf', 99) executed on worker tcp://127.0.0.1:40415\n",
            "WARNING:distributed.shuffle._scheduler_plugin:Shuffle ebc3dd2cee20c6721dd8da146cfb78c8 deactivated due to stimulus 'task-finished-1752941678.4261749'\n",
            "WARNING:distributed.shuffle._scheduler_plugin:Shuffle 97b9440cf476641a389120a0558f08e6 deactivated due to stimulus 'task-finished-1752941681.9529555'\n",
            "WARNING:distributed.shuffle._scheduler_plugin:Shuffle ac1202b9b5a0328db2373108543f47bf deactivated due to stimulus 'task-finished-1752941846.672117'\n",
            "WARNING:distributed.shuffle._scheduler_plugin:Shuffle c87f5805d6b8b4c7200aeac06d30c1b4 deactivated due to stimulus 'task-finished-1752941847.1022677'\n"
          ]
        }
      ]
    },
    {
      "cell_type": "code",
      "source": [
        "# 11) ذخیره در Google Drive (Parquet)\n",
        "# فقط ستون‌های نرمال‌شده، برچسب و timestamp ذخیره می‌شوند\n",
        "final_columns = [f'scaled_{col}' for col in FEATURE_COLUMNS] + [LABEL_COLUMN, 'timestamp']\n",
        "\n",
        "if os.path.exists(CLEAN_PARQUET):\n",
        "    os.remove(CLEAN_PARQUET)\n",
        "ddf[final_columns].to_parquet(CLEAN_PARQUET, engine='pyarrow')\n",
        "print(\"✅ Preprocessed & scaled data saved to:\", CLEAN_PARQUET)\n",
        "\n"
      ],
      "metadata": {
        "id": "ORqoPq3Nwn0h",
        "colab": {
          "base_uri": "https://localhost:8080/"
        },
        "outputId": "dae487aa-554e-4c39-ef48-3b7c21dfe77b"
      },
      "execution_count": null,
      "outputs": [
        {
          "output_type": "stream",
          "name": "stdout",
          "text": [
            "✅ Preprocessed & scaled data saved to: /content/drive/MyDrive/cleaned_scaled.parquet\n"
          ]
        }
      ]
    },
    {
      "cell_type": "code",
      "source": [
        "# 12) بستن کلاینت داسک\n",
        "client.close()"
      ],
      "metadata": {
        "id": "C1OimrQbwpWq",
        "colab": {
          "base_uri": "https://localhost:8080/"
        },
        "outputId": "bb35f4e1-0f87-45cb-b667-96d04fd60718"
      },
      "execution_count": null,
      "outputs": [
        {
          "output_type": "stream",
          "name": "stderr",
          "text": [
            "INFO:distributed.scheduler:Remove client Client-34dc4678-64b4-11f0-821e-0242ac1c000c\n",
            "INFO:distributed.core:Received 'close-stream' from tcp://127.0.0.1:39564; closing.\n",
            "INFO:distributed.scheduler:Remove client Client-34dc4678-64b4-11f0-821e-0242ac1c000c\n",
            "INFO:distributed.scheduler:Close client connection: Client-34dc4678-64b4-11f0-821e-0242ac1c000c\n",
            "INFO:distributed.scheduler:Retire worker addresses (stimulus_id='retire-workers-1752942340.5948477') (0,)\n",
            "INFO:distributed.nanny:Closing Nanny at 'tcp://127.0.0.1:44817'. Reason: nanny-close\n",
            "INFO:distributed.nanny:Nanny asking worker to close. Reason: nanny-close\n",
            "INFO:distributed.core:Received 'close-stream' from tcp://127.0.0.1:39550; closing.\n",
            "INFO:distributed.scheduler:Remove worker addr: tcp://127.0.0.1:40415 name: 0 (stimulus_id='handle-worker-cleanup-1752942341.4902208')\n",
            "INFO:distributed.scheduler:Lost all workers\n",
            "INFO:distributed.nanny:Nanny at 'tcp://127.0.0.1:44817' closed.\n",
            "INFO:distributed.scheduler:Closing scheduler. Reason: unknown\n",
            "INFO:distributed.scheduler:Scheduler closing all comms\n"
          ]
        }
      ]
    },
    {
      "cell_type": "code",
      "source": [
        "temp_ddf = dd.read_parquet(CLEAN_PARQUET, engine='pyarrow', columns=final_columns)\n",
        "print(temp_ddf.head(10))\n"
      ],
      "metadata": {
        "colab": {
          "base_uri": "https://localhost:8080/"
        },
        "id": "dvPz85gHg-4q",
        "outputId": "c95d788e-d550-4932-fc00-c85fd0eed5bd"
      },
      "execution_count": null,
      "outputs": [
        {
          "output_type": "stream",
          "name": "stdout",
          "text": [
            "     scaled_Viscosity_cP  scaled_Temperature_C  scaled_Shear_Rate  \\\n",
            "3               0.514517              0.695121           0.354446   \n",
            "89              0.543801              0.524005           0.917251   \n",
            "173             0.474023              0.452287           0.595321   \n",
            "272             0.377784              0.704805           0.404524   \n",
            "295             0.827568              0.538432           0.304173   \n",
            "326             0.323969              0.803894           0.498727   \n",
            "577             0.612987              0.566330           0.789184   \n",
            "599             0.498401              0.475444           0.800334   \n",
            "751             0.340332              0.557348           0.352630   \n",
            "794             0.526285              0.447311           0.802420   \n",
            "\n",
            "     scaled_Salinity_ppm  scaled_pH_Level  emulsion_risk           timestamp  \n",
            "3               0.339997         0.612494              1 2023-01-01 00:00:03  \n",
            "89              0.234999         0.417442              0 2023-01-01 00:01:29  \n",
            "173             0.206905         0.622439              0 2023-01-01 00:02:53  \n",
            "272             0.395500         0.062380              1 2023-01-01 00:04:32  \n",
            "295             0.422775         0.705094              1 2023-01-01 00:04:55  \n",
            "326             0.427206         0.428951              1 2023-01-01 00:05:26  \n",
            "577             0.480249         0.353531              1 2023-01-01 00:09:37  \n",
            "599             0.571399         0.523360              0 2023-01-01 00:09:59  \n",
            "751             0.282727         0.172432              0 2023-01-01 00:12:31  \n",
            "794             0.460943         0.707038              0 2023-01-01 00:13:14  \n"
          ]
        }
      ]
    },
    {
      "cell_type": "code",
      "source": [],
      "metadata": {
        "id": "0HOn-PbWhCR3"
      },
      "execution_count": null,
      "outputs": []
    }
  ]
}